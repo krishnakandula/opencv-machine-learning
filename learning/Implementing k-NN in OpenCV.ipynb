{
 "cells": [
  {
   "cell_type": "markdown",
   "metadata": {},
   "source": [
    "#### Building k-NN model steps\n",
    "1. Generate training data\n",
    "2. Create k-NN object for a given number k\n",
    "3. Find the k nearest neighbors of a new data point that we want to classify\n",
    "4. Assign class label of the new data point by majority vote\n",
    "5. Plot result"
   ]
  },
  {
   "cell_type": "code",
   "execution_count": 3,
   "metadata": {
    "collapsed": true
   },
   "outputs": [],
   "source": [
    "# Import libraries\n",
    "import numpy as np\n",
    "import cv2\n",
    "import matplotlib.pyplot as plt\n",
    "%matplotlib inline"
   ]
  },
  {
   "cell_type": "code",
   "execution_count": 4,
   "metadata": {
    "collapsed": true
   },
   "outputs": [],
   "source": [
    "plt.style.use('ggplot')"
   ]
  },
  {
   "cell_type": "markdown",
   "metadata": {},
   "source": [
    "#### 1. Generating the training data"
   ]
  },
  {
   "cell_type": "markdown",
   "metadata": {},
   "source": [
    "Fix the seed"
   ]
  },
  {
   "cell_type": "code",
   "execution_count": 5,
   "metadata": {
    "collapsed": true
   },
   "outputs": [],
   "source": [
    "np.random.seed(42)"
   ]
  },
  {
   "cell_type": "markdown",
   "metadata": {},
   "source": [
    "Assume town map spans range 0 <= x < 100 and 0 <= y < 100.   \n",
    "Create function that generates random data points on map"
   ]
  },
  {
   "cell_type": "code",
   "execution_count": 8,
   "metadata": {},
   "outputs": [],
   "source": [
    "def generate_data(num_samples, \n",
    "                    num_features = 2, \n",
    "                    low = 0, \n",
    "                    high = 100):\n",
    "    data_size = (num_samples, num_features)\n",
    "    data = np.random.randint(low, high, data_size)\n",
    "    \n",
    "    labels_size = (num_samples, 1)\n",
    "    labels = np.random.randint(0, 2, labels_size)\n",
    "    \n",
    "    return data.astype(np.float32), labels"
   ]
  },
  {
   "cell_type": "raw",
   "metadata": {},
   "source": [
    "Use the function to create some training data"
   ]
  },
  {
   "cell_type": "code",
   "execution_count": 11,
   "metadata": {},
   "outputs": [
    {
     "name": "stdout",
     "output_type": "stream",
     "text": [
      "Training data:  [[ 53.   3.]\n",
      " [ 53.  92.]\n",
      " [ 62.  17.]\n",
      " [ 89.  43.]\n",
      " [ 33.  73.]\n",
      " [ 61.  99.]\n",
      " [ 13.  94.]\n",
      " [ 47.  14.]\n",
      " [ 71.  77.]\n",
      " [ 86.  61.]]\n",
      "Training labels:  [[1]\n",
      " [0]\n",
      " [1]\n",
      " [0]\n",
      " [1]\n",
      " [0]\n",
      " [0]\n",
      " [1]\n",
      " [1]\n",
      " [0]]\n"
     ]
    }
   ],
   "source": [
    "train_data, labels = generate_data(10)\n",
    "print('Training data: ', train_data)\n",
    "print('Training labels: ', labels)"
   ]
  },
  {
   "cell_type": "markdown",
   "metadata": {},
   "source": [
    "Plot data"
   ]
  },
  {
   "cell_type": "code",
   "execution_count": 18,
   "metadata": {},
   "outputs": [
    {
     "data": {
      "text/plain": [
       "[<matplotlib.lines.Line2D at 0x10cd475f8>]"
      ]
     },
     "execution_count": 18,
     "metadata": {},
     "output_type": "execute_result"
    },
    {
     "data": {
      "image/png": "[encoded data removed]",
      "text/plain": [
       "<matplotlib.figure.Figure at 0x10d0d7550>"
      ]
     },
     "metadata": {},
     "output_type": "display_data"
    }
   ],
   "source": [
    "plt.plot(train_data[0,0], train_data[0,1], 'bs')"
   ]
  },
  {
   "cell_type": "markdown",
   "metadata": {},
   "source": [
    "Write function to visualize entire training set (blue squares and red triangles)"
   ]
  },
  {
   "cell_type": "code",
   "execution_count": 26,
   "metadata": {},
   "outputs": [],
   "source": [
    "def plot_data(all_blue, all_red):\n",
    "    plt.scatter(all_blue[:,0], all_blue[:,1], c='b', marker='s', s=100)\n",
    "    plt.scatter(all_red[:,0], all_red[:,1], c='r', marker='v', s=100)\n",
    "    plt.xlabel('x coordinate (feature 1)')\n",
    "    plt.ylabel('y coordinate (feature 2)')"
   ]
  },
  {
   "cell_type": "markdown",
   "metadata": {},
   "source": [
    "Test the function using the dataset"
   ]
  },
  {
   "cell_type": "code",
   "execution_count": 27,
   "metadata": {},
   "outputs": [
    {
     "data": {
      "image/png": "[encoded data removed]",
      "text/plain": [
       "<matplotlib.figure.Figure at 0x10cf50278>"
      ]
     },
     "metadata": {},
     "output_type": "display_data"
    }
   ],
   "source": [
    "all_blue = train_data[labels.ravel() == 0]\n",
    "all_red = train_data[labels.ravel() == 1]\n",
    "plot_data(all_blue, all_red)"
   ]
  }
 ],
 "metadata": {
  "kernelspec": {
   "display_name": "Python 3",
   "language": "python",
   "name": "python3"
  },
  "language_info": {
   "codemirror_mode": {
    "name": "ipython",
    "version": 3
   },
   "file_extension": ".py",
   "mimetype": "text/x-python",
   "name": "python",
   "nbconvert_exporter": "python",
   "pygments_lexer": "ipython3",
   "version": "3.6.3"
  }
 },
 "nbformat": 4,
 "nbformat_minor": 2
}
